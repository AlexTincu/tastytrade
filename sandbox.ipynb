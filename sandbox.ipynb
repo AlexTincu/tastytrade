{
 "cells": [
  {
   "cell_type": "code",
   "execution_count": 1,
   "id": "edf5b59d",
   "metadata": {},
   "outputs": [],
   "source": [
    "import asyncio\n",
    "from datetime import date\n",
    "from decimal import Decimal\n",
    "\n",
    "from tastyworks.models import option_chain, underlying\n",
    "from tastyworks.models.greeks import Greeks\n",
    "from tastyworks.models.option import Option, OptionType\n",
    "from tastyworks.models.order import Order, OrderDetails, OrderPriceEffect, OrderType\n",
    "from tastyworks.models.session import TastyAPISession\n",
    "from tastyworks.models.trading_account import TradingAccount\n",
    "from tastyworks.models.underlying import UnderlyingType\n",
    "from tastyworks.streamer import DataStreamer, SubscriptionType\n",
    "from tastyworks.utils import get_third_friday\n",
    "from tastyworks.utils import symbol_search"
   ]
  },
  {
   "cell_type": "code",
   "execution_count": 2,
   "id": "f3aa344f",
   "metadata": {},
   "outputs": [],
   "source": [
    "TW_USER = 'graeme22'\n",
    "TW_PASS = 'uAbH9SDO52r`Is1RSy&V$dVW>'"
   ]
  },
  {
   "cell_type": "code",
   "execution_count": 3,
   "id": "d2d4ff57",
   "metadata": {},
   "outputs": [],
   "source": [
    "session = TastyAPISession(TW_USER, TW_PASS)\n",
    "streamer = await DataStreamer.create(session)"
   ]
  },
  {
   "cell_type": "code",
   "execution_count": 18,
   "id": "c4775dc1",
   "metadata": {},
   "outputs": [
    {
     "data": {
      "text/plain": [
       "Greeks(symbol='.SPY220919P482', index=7144213552255991808, datetime=datetime.datetime(2022, 9, 17, 0, 17, 19, 791000), price=Decimal('94.7699098349162'), volatility=Decimal('0.828261954870178'), delta=Decimal('-0.992666054552374'), gamma=Decimal('0.000595511623812276'), theta=Decimal('-0.0838942399374374'), rho=Decimal('-0.0541393736054247'), vega=Decimal('0.00835864898680368'))"
      ]
     },
     "execution_count": 18,
     "metadata": {},
     "output_type": "execute_result"
    }
   ],
   "source": [
    "data = await streamer.stream(SubscriptionType.GREEKS, ['.SPY220919P482'])\n",
    "greeks = Greeks.from_streamer_dict(data[0])\n",
    "greeks"
   ]
  },
  {
   "cell_type": "code",
   "execution_count": 19,
   "id": "94bf4db0",
   "metadata": {},
   "outputs": [
    {
     "data": {
      "text/plain": [
       "[{'eventSymbol': '.SPY220919P482',\n",
       "  'eventTime': 0,\n",
       "  'eventFlags': 0,\n",
       "  'index': 7144213552255991808,\n",
       "  'time': 1663391839791,\n",
       "  'sequence': 0,\n",
       "  'price': 94.7699098349162,\n",
       "  'volatility': 0.828261954870178,\n",
       "  'delta': -0.992666054552374,\n",
       "  'gamma': 0.000595511623812276,\n",
       "  'theta': -0.0838942399374374,\n",
       "  'rho': -0.0541393736054247,\n",
       "  'vega': 0.00835864898680368}]"
      ]
     },
     "execution_count": 19,
     "metadata": {},
     "output_type": "execute_result"
    }
   ],
   "source": [
    "data"
   ]
  }
 ],
 "metadata": {
  "kernelspec": {
   "display_name": "Python 3 (ipykernel)",
   "language": "python",
   "name": "python3"
  },
  "language_info": {
   "codemirror_mode": {
    "name": "ipython",
    "version": 3
   },
   "file_extension": ".py",
   "mimetype": "text/x-python",
   "name": "python",
   "nbconvert_exporter": "python",
   "pygments_lexer": "ipython3",
   "version": "3.10.7"
  }
 },
 "nbformat": 4,
 "nbformat_minor": 5
}
